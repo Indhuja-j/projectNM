{
  "nbformat": 4,
  "nbformat_minor": 0,
  "metadata": {
    "colab": {
      "provenance": []
    },
    "kernelspec": {
      "name": "python3",
      "display_name": "Python 3"
    },
    "language_info": {
      "name": "python"
    }
  },
  "cells": [
    {
      "cell_type": "code",
      "execution_count": null,
      "metadata": {
        "id": "VCxrwpo7v5Jb"
      },
      "outputs": [],
      "source": [
        "# Install TextBlob library\n",
        "!pip install textblob\n",
        "# Import necessary libraries\n",
        "from textblob import TextBlob\n",
        "# Define a function for sentiment analysis\n",
        "def analyze_sentiment(sentence):\n",
        "    analysis = TextBlob(sentence)\n",
        "    if analysis.sentiment.polarity > 0:\n",
        "        return \"Positive\"\n",
        "    elif analysis.sentiment.polarity < 0:\n",
        "        return \"Negative\"\n",
        "    else:\n",
        "        return \"Neutral\"\n",
        "# Prompt the user to enter a sentence\n",
        "sentence = input(\"Enter a sentence: \")\n",
        "# Perform sentiment analysis on the entered sentence\n",
        "print(\"Sentiment:\", analyze_sentiment(sentence))"
      ]
    }
  ]
}