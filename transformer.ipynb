{
  "nbformat": 4,
  "nbformat_minor": 0,
  "metadata": {
    "colab": {
      "provenance": []
    },
    "kernelspec": {
      "name": "python3",
      "display_name": "Python 3"
    },
    "language_info": {
      "name": "python"
    }
  },
  "cells": [
    {
      "cell_type": "code",
      "execution_count": null,
      "metadata": {
        "id": "3k8CwUbxwONw"
      },
      "outputs": [],
      "source": [
        "# Install the Transformers library\n",
        "!pip install transformers\n",
        "\n",
        "# Import necessary libraries\n",
        "from transformers import pipeline\n",
        "\n",
        "# Load the sentiment analysis pipeline\n",
        "sentiment_analysis = pipeline(\"sentiment-analysis\")\n",
        "\n",
        "# Prompt the user to enter a sentence\n",
        "sentence = input(\"Enter a sentence: \")\n",
        "\n",
        "# Perform sentiment analysis on the entered sentence\n",
        "result = sentiment_analysis(sentence)\n",
        "\n",
        "# Print the sentiment result\n",
        "print(\"Sentiment:\", result[0]['label'])"
      ]
    }
  ]
}