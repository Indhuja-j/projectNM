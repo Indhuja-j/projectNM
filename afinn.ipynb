{
  "nbformat": 4,
  "nbformat_minor": 0,
  "metadata": {
    "colab": {
      "provenance": []
    },
    "kernelspec": {
      "name": "python3",
      "display_name": "Python 3"
    },
    "language_info": {
      "name": "python"
    }
  },
  "cells": [
    {
      "cell_type": "code",
      "execution_count": null,
      "metadata": {
        "id": "OTSw59-rwF5W"
      },
      "outputs": [],
      "source": [
        "# Install Afinn library\n",
        "!pip install afinn\n",
        "# Import necessary libraries\n",
        "from afinn import Afinn\n",
        "# Initialize Afinn\n",
        "afinn = Afinn()\n",
        "# Define a function for sentiment analysis\n",
        "def analyze_sentiment(sentence):\n",
        "    score = afinn.score(sentence)\n",
        "    if score > 0:\n",
        "        return \"Positive\"\n",
        "    elif score < 0:\n",
        "        return \"Negative\"\n",
        "    else:\n",
        "        return \"Neutral\"\n",
        "# Prompt the user to enter a sentence\n",
        "sentence = input(\"Enter a sentence: \")\n",
        "# Perform sentiment analysis on the entered sentence\n",
        "sentiment = analyze_sentiment(sentence)\n",
        "# Print the sentiment result\n",
        "print(\"Sentiment:\", sentiment)"
      ]
    }
  ]
}