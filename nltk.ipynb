{
  "nbformat": 4,
  "nbformat_minor": 0,
  "metadata": {
    "colab": {
      "provenance": []
    },
    "kernelspec": {
      "name": "python3",
      "display_name": "Python 3"
    },
    "language_info": {
      "name": "python"
    }
  },
  "cells": [
    {
      "cell_type": "code",
      "execution_count": null,
      "metadata": {
        "id": "2nh4PotkvijN"
      },
      "outputs": [],
      "source": [
        "# Install NLTK library\n",
        "!pip install nltk\n",
        "\n",
        "# Import necessary libraries\n",
        "import nltk\n",
        "from nltk.sentiment.vader import SentimentIntensityAnalyzer\n",
        "# Download NLTK resources\n",
        "nltk.download('vader_lexicon')\n",
        "# Initialize the sentiment analyzer\n",
        "sid = SentimentIntensityAnalyzer()\n",
        "# Define a function for sentiment analysis\n",
        "def analyze_sentiment(sentence):\n",
        "    score = sid.polarity_scores(sentence)\n",
        "    if score['compound'] >= 0.05:\n",
        "        return \"Positive\"\n",
        "    elif score['compound'] <= -0.05:\n",
        "        return \"Negative\"\n",
        "    else:\n",
        "        return \"Neutral\"\n",
        "# Prompt the user to enter a sentence\n",
        "sentence = input(\"Enter a sentence: \")\n",
        "# Perform sentiment analysis on the entered sentence\n",
        "print(\"Sentiment:\", analyze_sentiment(sentence))"
      ]
    }
  ]
}