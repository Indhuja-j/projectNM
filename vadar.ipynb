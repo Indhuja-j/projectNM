{
  "nbformat": 4,
  "nbformat_minor": 0,
  "metadata": {
    "colab": {
      "provenance": []
    },
    "kernelspec": {
      "name": "python3",
      "display_name": "Python 3"
    },
    "language_info": {
      "name": "python"
    }
  },
  "cells": [
    {
      "cell_type": "code",
      "source": [
        "# Install VADER library\n",
        "!pip install vaderSentiment\n",
        "# Import necessary libraries\n",
        "from vaderSentiment.vaderSentiment import SentimentIntensityAnalyzer\n",
        "# Initialize VADER sentiment analyzer\n",
        "analyzer = SentimentIntensityAnalyzer()\n",
        "# Sample text data\n",
        "texts = [\n",
        "“I really like the new design of your website!”\n",
        "“I am not sure if I like the new design”\n",
        "“The new design is awful!”\n",
        "]\n",
        "# Perform sentiment analysis on each text\n",
        "for text in texts:\n",
        "    sentiment_score = analyzer.polarity_scores(text)\n",
        "    print(f\"Text: {text}\")\n",
        "    print(f\"Sentiment score: {sentiment_score}\")\n",
        "    if sentiment_score['compound'] > 0:\n",
        "        print(\"Sentiment: Positive\")\n",
        "    elif sentiment_score['compound'] < 0:\n",
        "        print(\"Sentiment: Negative\")\n",
        "    else:\n",
        "        print(\"Sentiment: Neutral\")\n",
        "    print()"
      ],
      "metadata": {
        "id": "RI_dY_DyvW9S"
      },
      "execution_count": null,
      "outputs": []
    },
    {
      "cell_type": "code",
      "execution_count": null,
      "metadata": {
        "id": "jF9CoFAzvV8h"
      },
      "outputs": [],
      "source": []
    }
  ]
}